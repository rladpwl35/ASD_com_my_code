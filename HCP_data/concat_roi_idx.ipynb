{
 "cells": [
  {
   "cell_type": "markdown",
   "metadata": {},
   "source": [
    "### Add ROI index in node feautre"
   ]
  },
  {
   "cell_type": "code",
   "execution_count": 2,
   "metadata": {
    "collapsed": true
   },
   "outputs": [],
   "source": [
    "import numpy as np\n",
    "import os\n",
    "import pickle"
   ]
  },
  {
   "cell_type": "code",
   "execution_count": 9,
   "metadata": {},
   "outputs": [
    {
     "name": "stdout",
     "output_type": "stream",
     "text": [
      "['pcc_ROISignals_28675.txt', 'pcc_ROISignals_28676.txt', 'pcc_ROISignals_28677.txt', 'pcc_ROISignals_28678.txt', 'pcc_ROISignals_28679.txt', 'pcc_ROISignals_28680.txt', 'pcc_ROISignals_28681.txt', 'pcc_ROISignals_28682.txt', 'pcc_ROISignals_28683.txt', 'pcc_ROISignals_28684.txt', 'pcc_ROISignals_28685.txt', 'pcc_ROISignals_28686.txt', 'pcc_ROISignals_28687.txt', 'pcc_ROISignals_28688.txt', 'pcc_ROISignals_28689.txt', 'pcc_ROISignals_28690.txt', 'pcc_ROISignals_28691.txt', 'pcc_ROISignals_28692.txt', 'pcc_ROISignals_28693.txt', 'pcc_ROISignals_28694.txt', 'pcc_ROISignals_28695.txt', 'pcc_ROISignals_28696.txt', 'pcc_ROISignals_28697.txt', 'pcc_ROISignals_28699.txt', 'pcc_ROISignals_28700.txt', 'pcc_ROISignals_28701.txt', 'pcc_ROISignals_28702.txt', 'pcc_ROISignals_28703.txt', 'pcc_ROISignals_28704.txt', 'pcc_ROISignals_28705.txt', 'pcc_ROISignals_28706.txt', 'pcc_ROISignals_28707.txt', 'pcc_ROISignals_28708.txt', 'pcc_ROISignals_28709.txt', 'pcc_ROISignals_28710.txt', 'pcc_ROISignals_28711.txt', 'pcc_ROISignals_28712.txt', 'pcc_ROISignals_28713.txt', 'pcc_ROISignals_28714.txt', 'pcc_ROISignals_28715.txt', 'pcc_ROISignals_28716.txt', 'pcc_ROISignals_28717.txt', 'pcc_ROISignals_28718.txt', 'pcc_ROISignals_28719.txt', 'pcc_ROISignals_28720.txt', 'pcc_ROISignals_28721.txt', 'pcc_ROISignals_28722.txt', 'pcc_ROISignals_28723.txt', 'pcc_ROISignals_28724.txt', 'pcc_ROISignals_28725.txt', 'pcc_ROISignals_28726.txt', 'pcc_ROISignals_28727.txt', 'pcc_ROISignals_28728.txt', 'pcc_ROISignals_28729.txt', 'pcc_ROISignals_28730.txt', 'pcc_ROISignals_28731.txt', 'pcc_ROISignals_28732.txt', 'pcc_ROISignals_28733.txt', 'pcc_ROISignals_28741.txt', 'pcc_ROISignals_28742.txt', 'pcc_ROISignals_28743.txt', 'pcc_ROISignals_28744.txt', 'pcc_ROISignals_28745.txt', 'pcc_ROISignals_28746.txt', 'pcc_ROISignals_28747.txt', 'pcc_ROISignals_28748.txt', 'pcc_ROISignals_28749.txt', 'pcc_ROISignals_28750.txt', 'pcc_ROISignals_28752.txt', 'pcc_ROISignals_28753.txt', 'pcc_ROISignals_28754.txt', 'pcc_ROISignals_28758.txt', 'pcc_ROISignals_28760.txt', 'pcc_ROISignals_28761.txt', 'pcc_ROISignals_28762.txt', 'pcc_ROISignals_28764.txt', 'pcc_ROISignals_28765.txt', 'pcc_ROISignals_28766.txt', 'pcc_ROISignals_28767.txt', 'pcc_ROISignals_28768.txt', 'pcc_ROISignals_28771.txt', 'pcc_ROISignals_28774.txt', 'pcc_ROISignals_28778.txt', 'pcc_ROISignals_28779.txt', 'pcc_ROISignals_28780.txt', 'pcc_ROISignals_28820.txt', 'pcc_ROISignals_28821.txt', 'pcc_ROISignals_28822.txt', 'pcc_ROISignals_28823.txt', 'pcc_ROISignals_28824.txt', 'pcc_ROISignals_28825.txt', 'pcc_ROISignals_28826.txt', 'pcc_ROISignals_28827.txt', 'pcc_ROISignals_28828.txt', 'pcc_ROISignals_28829.txt', 'pcc_ROISignals_28830.txt', 'pcc_ROISignals_28831.txt', 'pcc_ROISignals_28832.txt', 'pcc_ROISignals_28834.txt', 'pcc_ROISignals_28835.txt', 'pcc_ROISignals_28836.txt', 'pcc_ROISignals_28837.txt', 'pcc_ROISignals_28838.txt', 'pcc_ROISignals_28839.txt', 'pcc_ROISignals_28840.txt', 'pcc_ROISignals_28841.txt', 'pcc_ROISignals_28842.txt', 'pcc_ROISignals_28843.txt', 'pcc_ROISignals_28844.txt', 'pcc_ROISignals_28845.txt', 'pcc_ROISignals_28846.txt', 'pcc_ROISignals_28847.txt', 'pcc_ROISignals_28852.txt', 'pcc_ROISignals_28853.txt', 'pcc_ROISignals_28854.txt', 'pcc_ROISignals_28855.txt', 'pcc_ROISignals_28856.txt', 'pcc_ROISignals_28857.txt', 'pcc_ROISignals_28858.txt', 'pcc_ROISignals_28859.txt', 'pcc_ROISignals_28860.txt', 'pcc_ROISignals_28861.txt', 'pcc_ROISignals_28862.txt', 'pcc_ROISignals_28863.txt', 'pcc_ROISignals_28864.txt', 'pcc_ROISignals_28865.txt', 'pcc_ROISignals_28866.txt', 'pcc_ROISignals_28867.txt', 'pcc_ROISignals_28868.txt', 'pcc_ROISignals_28869.txt', 'pcc_ROISignals_28870.txt', 'pcc_ROISignals_28871.txt', 'pcc_ROISignals_28872.txt', 'pcc_ROISignals_28873.txt', 'pcc_ROISignals_28874.txt', 'pcc_ROISignals_28875.txt', 'pcc_ROISignals_28876.txt', 'pcc_ROISignals_28877.txt', 'pcc_ROISignals_28878.txt', 'pcc_ROISignals_28879.txt', 'pcc_ROISignals_28880.txt', 'pcc_ROISignals_28881.txt', 'pcc_ROISignals_28882.txt', 'pcc_ROISignals_28883.txt', 'pcc_ROISignals_28884.txt', 'pcc_ROISignals_28885.txt', 'pcc_ROISignals_28886.txt', 'pcc_ROISignals_28887.txt', 'pcc_ROISignals_28888.txt', 'pcc_ROISignals_28889.txt', 'pcc_ROISignals_28890.txt', 'pcc_ROISignals_28891.txt', 'pcc_ROISignals_28892.txt', 'pcc_ROISignals_28893.txt', 'pcc_ROISignals_28894.txt', 'pcc_ROISignals_28895.txt', 'pcc_ROISignals_28896.txt', 'pcc_ROISignals_28897.txt', 'pcc_ROISignals_28898.txt', 'pcc_ROISignals_28899.txt', 'pcc_ROISignals_28900.txt', 'pcc_ROISignals_28901.txt', 'pcc_ROISignals_28902.txt', 'pcc_ROISignals_28903.txt', 'pcc_ROISignals_28904.txt', 'pcc_ROISignals_28905.txt', 'pcc_ROISignals_28906.txt', 'pcc_ROISignals_28907.txt', 'pcc_ROISignals_28908.txt', 'pcc_ROISignals_28909.txt', 'pcc_ROISignals_29057.txt', 'pcc_ROISignals_29058.txt', 'pcc_ROISignals_29059.txt', 'pcc_ROISignals_29060.txt', 'pcc_ROISignals_29062.txt', 'pcc_ROISignals_29063.txt', 'pcc_ROISignals_29064.txt', 'pcc_ROISignals_29065.txt', 'pcc_ROISignals_29066.txt', 'pcc_ROISignals_29067.txt', 'pcc_ROISignals_29068.txt', 'pcc_ROISignals_29069.txt', 'pcc_ROISignals_29070.txt', 'pcc_ROISignals_29071.txt', 'pcc_ROISignals_29072.txt', 'pcc_ROISignals_29073.txt', 'pcc_ROISignals_29074.txt', 'pcc_ROISignals_29075.txt', 'pcc_ROISignals_29076.txt', 'pcc_ROISignals_29077.txt', 'pcc_ROISignals_29078.txt', 'pcc_ROISignals_29079.txt', 'pcc_ROISignals_29080.txt', 'pcc_ROISignals_29081.txt', 'pcc_ROISignals_29082.txt', 'pcc_ROISignals_29083.txt', 'pcc_ROISignals_29084.txt', 'pcc_ROISignals_29085.txt', 'pcc_ROISignals_29086.txt', 'pcc_ROISignals_29087.txt', 'pcc_ROISignals_29088.txt', 'pcc_ROISignals_29089.txt', 'pcc_ROISignals_29090.txt', 'pcc_ROISignals_29091.txt', 'pcc_ROISignals_29092.txt', 'pcc_ROISignals_29093.txt', 'pcc_ROISignals_29094.txt', 'pcc_ROISignals_29096.txt', 'pcc_ROISignals_29097.txt', 'pcc_ROISignals_29098.txt', 'pcc_ROISignals_29099.txt', 'pcc_ROISignals_29100.txt', 'pcc_ROISignals_29101.txt', 'pcc_ROISignals_29102.txt', 'pcc_ROISignals_29103.txt', 'pcc_ROISignals_29105.txt', 'pcc_ROISignals_29106.txt', 'pcc_ROISignals_29107.txt', 'pcc_ROISignals_29108.txt', 'pcc_ROISignals_29109.txt', 'pcc_ROISignals_29110.txt', 'pcc_ROISignals_29111.txt', 'pcc_ROISignals_29112.txt', 'pcc_ROISignals_29113.txt', 'pcc_ROISignals_29114.txt', 'pcc_ROISignals_29115.txt', 'pcc_ROISignals_29116.txt', 'pcc_ROISignals_29117.txt', 'pcc_ROISignals_29118.txt', 'pcc_ROISignals_29119.txt', 'pcc_ROISignals_29120.txt', 'pcc_ROISignals_29121.txt', 'pcc_ROISignals_29122.txt', 'pcc_ROISignals_29123.txt', 'pcc_ROISignals_29124.txt', 'pcc_ROISignals_29125.txt', 'pcc_ROISignals_29126.txt', 'pcc_ROISignals_29127.txt', 'pcc_ROISignals_29128.txt', 'pcc_ROISignals_29129.txt', 'pcc_ROISignals_29130.txt', 'pcc_ROISignals_29131.txt', 'pcc_ROISignals_29132.txt', 'pcc_ROISignals_29133.txt', 'pcc_ROISignals_29134.txt', 'pcc_ROISignals_29135.txt', 'pcc_ROISignals_29136.txt', 'pcc_ROISignals_29137.txt', 'pcc_ROISignals_29150.txt', 'pcc_ROISignals_29154.txt', 'pcc_ROISignals_29158.txt', 'pcc_ROISignals_29159.txt', 'pcc_ROISignals_29160.txt', 'pcc_ROISignals_29162.txt', 'pcc_ROISignals_29163.txt', 'pcc_ROISignals_29164.txt', 'pcc_ROISignals_29165.txt', 'pcc_ROISignals_29166.txt', 'pcc_ROISignals_29167.txt', 'pcc_ROISignals_29170.txt', 'pcc_ROISignals_29171.txt', 'pcc_ROISignals_29172.txt', 'pcc_ROISignals_29173.txt', 'pcc_ROISignals_29174.txt', 'pcc_ROISignals_29177.txt', 'pcc_ROISignals_29178.txt', 'pcc_ROISignals_29179.txt', 'pcc_ROISignals_29180.txt', 'pcc_ROISignals_29181.txt', 'pcc_ROISignals_29182.txt', 'pcc_ROISignals_29183.txt', 'pcc_ROISignals_29184.txt', 'pcc_ROISignals_29185.txt', 'pcc_ROISignals_29186.txt', 'pcc_ROISignals_29187.txt', 'pcc_ROISignals_29188.txt', 'pcc_ROISignals_29189.txt', 'pcc_ROISignals_29190.txt', 'pcc_ROISignals_29191.txt', 'pcc_ROISignals_29192.txt', 'pcc_ROISignals_29193.txt', 'pcc_ROISignals_29194.txt', 'pcc_ROISignals_29195.txt', 'pcc_ROISignals_29196.txt', 'pcc_ROISignals_29197.txt', 'pcc_ROISignals_29198.txt', 'pcc_ROISignals_29199.txt', 'pcc_ROISignals_29200.txt', 'pcc_ROISignals_29201.txt', 'pcc_ROISignals_29202.txt', 'pcc_ROISignals_29203.txt', 'pcc_ROISignals_29204.txt', 'pcc_ROISignals_29205.txt', 'pcc_ROISignals_29206.txt', 'pcc_ROISignals_29207.txt', 'pcc_ROISignals_29208.txt', 'pcc_ROISignals_29209.txt', 'pcc_ROISignals_29210.txt', 'pcc_ROISignals_29211.txt', 'pcc_ROISignals_29212.txt', 'pcc_ROISignals_29213.txt', 'pcc_ROISignals_29214.txt', 'pcc_ROISignals_29215.txt', 'pcc_ROISignals_29216.txt', 'pcc_ROISignals_29218.txt', 'pcc_ROISignals_29219.txt', 'pcc_ROISignals_29220.txt', 'pcc_ROISignals_29221.txt', 'pcc_ROISignals_29222.txt', 'pcc_ROISignals_29223.txt', 'pcc_ROISignals_29224.txt', 'pcc_ROISignals_29225.txt', 'pcc_ROISignals_29226.txt', 'pcc_ROISignals_29227.txt', 'pcc_ROISignals_29228.txt', 'pcc_ROISignals_29229.txt', 'pcc_ROISignals_29230.txt', 'pcc_ROISignals_29231.txt', 'pcc_ROISignals_29232.txt', 'pcc_ROISignals_29233.txt', 'pcc_ROISignals_29234.txt', 'pcc_ROISignals_29235.txt', 'pcc_ROISignals_29236.txt', 'pcc_ROISignals_29237.txt', 'pcc_ROISignals_29238.txt', 'pcc_ROISignals_29239.txt', 'pcc_ROISignals_29240.txt', 'pcc_ROISignals_29241.txt', 'pcc_ROISignals_29242.txt', 'pcc_ROISignals_29243.txt', 'pcc_ROISignals_29244.txt', 'pcc_ROISignals_29245.txt', 'pcc_ROISignals_29246.txt', 'pcc_ROISignals_29247.txt', 'pcc_ROISignals_29248.txt', 'pcc_ROISignals_29249.txt', 'pcc_ROISignals_29250.txt', 'pcc_ROISignals_29251.txt', 'pcc_ROISignals_29252.txt', 'pcc_ROISignals_29253.txt', 'pcc_ROISignals_29254.txt', 'pcc_ROISignals_29286.txt', 'pcc_ROISignals_29287.txt', 'pcc_ROISignals_29288.txt', 'pcc_ROISignals_29289.txt', 'pcc_ROISignals_29290.txt', 'pcc_ROISignals_29291.txt', 'pcc_ROISignals_29292.txt', 'pcc_ROISignals_29293.txt', 'pcc_ROISignals_29309.txt', 'pcc_ROISignals_29330.txt', 'pcc_ROISignals_29331.txt', 'pcc_ROISignals_29332.txt', 'pcc_ROISignals_29333.txt', 'pcc_ROISignals_29334.txt', 'pcc_ROISignals_29335.txt', 'pcc_ROISignals_29336.txt', 'pcc_ROISignals_29337.txt', 'pcc_ROISignals_29338.txt', 'pcc_ROISignals_29339.txt', 'pcc_ROISignals_29340.txt', 'pcc_ROISignals_29341.txt', 'pcc_ROISignals_29342.txt', 'pcc_ROISignals_29343.txt', 'pcc_ROISignals_29344.txt', 'pcc_ROISignals_29345.txt', 'pcc_ROISignals_29346.txt', 'pcc_ROISignals_29347.txt', 'pcc_ROISignals_29348.txt', 'pcc_ROISignals_29349.txt', 'pcc_ROISignals_29350.txt', 'pcc_ROISignals_29351.txt', 'pcc_ROISignals_29352.txt', 'pcc_ROISignals_29353.txt', 'pcc_ROISignals_29354.txt', 'pcc_ROISignals_29355.txt', 'pcc_ROISignals_29356.txt', 'pcc_ROISignals_29357.txt', 'pcc_ROISignals_29358.txt', 'pcc_ROISignals_29359.txt', 'pcc_ROISignals_29360.txt', 'pcc_ROISignals_29361.txt', 'pcc_ROISignals_29362.txt', 'pcc_ROISignals_29363.txt', 'pcc_ROISignals_29364.txt', 'pcc_ROISignals_29365.txt', 'pcc_ROISignals_29366.txt', 'pcc_ROISignals_29367.txt', 'pcc_ROISignals_29368.txt', 'pcc_ROISignals_29369.txt', 'pcc_ROISignals_29370.txt', 'pcc_ROISignals_29371.txt', 'pcc_ROISignals_29373.txt', 'pcc_ROISignals_29374.txt', 'pcc_ROISignals_29375.txt', 'pcc_ROISignals_29376.txt', 'pcc_ROISignals_29377.txt', 'pcc_ROISignals_29378.txt', 'pcc_ROISignals_29379.txt', 'pcc_ROISignals_29380.txt', 'pcc_ROISignals_29381.txt', 'pcc_ROISignals_29382.txt', 'pcc_ROISignals_29383.txt', 'pcc_ROISignals_29384.txt', 'pcc_ROISignals_29385.txt', 'pcc_ROISignals_29386.txt', 'pcc_ROISignals_29387.txt', 'pcc_ROISignals_29388.txt', 'pcc_ROISignals_29389.txt', 'pcc_ROISignals_29390.txt', 'pcc_ROISignals_29391.txt', 'pcc_ROISignals_29392.txt', 'pcc_ROISignals_29393.txt', 'pcc_ROISignals_29394.txt', 'pcc_ROISignals_29395.txt', 'pcc_ROISignals_29396.txt', 'pcc_ROISignals_29397.txt', 'pcc_ROISignals_29399.txt', 'pcc_ROISignals_29400.txt', 'pcc_ROISignals_29401.txt', 'pcc_ROISignals_29402.txt', 'pcc_ROISignals_29403.txt', 'pcc_ROISignals_29404.txt', 'pcc_ROISignals_29405.txt', 'pcc_ROISignals_29407.txt', 'pcc_ROISignals_29408.txt', 'pcc_ROISignals_29409.txt', 'pcc_ROISignals_29411.txt', 'pcc_ROISignals_29412.txt', 'pcc_ROISignals_29413.txt', 'pcc_ROISignals_29414.txt', 'pcc_ROISignals_29415.txt', 'pcc_ROISignals_29416.txt', 'pcc_ROISignals_29417.txt', 'pcc_ROISignals_29418.txt', 'pcc_ROISignals_29419.txt', 'pcc_ROISignals_29420.txt', 'pcc_ROISignals_29421.txt', 'pcc_ROISignals_29422.txt', 'pcc_ROISignals_29423.txt', 'pcc_ROISignals_29424.txt', 'pcc_ROISignals_29425.txt', 'pcc_ROISignals_29427.txt', 'pcc_ROISignals_29428.txt', 'pcc_ROISignals_29429.txt', 'pcc_ROISignals_29430.txt', 'pcc_ROISignals_29431.txt', 'pcc_ROISignals_29432.txt', 'pcc_ROISignals_29433.txt', 'pcc_ROISignals_29434.txt', 'pcc_ROISignals_29435.txt', 'pcc_ROISignals_29436.txt', 'pcc_ROISignals_29437.txt', 'pcc_ROISignals_29438.txt', 'pcc_ROISignals_29439.txt', 'pcc_ROISignals_29440.txt', 'pcc_ROISignals_29441.txt', 'pcc_ROISignals_29442.txt', 'pcc_ROISignals_29443.txt', 'pcc_ROISignals_29444.txt', 'pcc_ROISignals_29445.txt', 'pcc_ROISignals_29446.txt', 'pcc_ROISignals_29447.txt', 'pcc_ROISignals_29448.txt', 'pcc_ROISignals_29449.txt', 'pcc_ROISignals_29450.txt', 'pcc_ROISignals_29451.txt', 'pcc_ROISignals_29452.txt', 'pcc_ROISignals_29453.txt', 'pcc_ROISignals_29454.txt', 'pcc_ROISignals_29455.txt', 'pcc_ROISignals_29456.txt', 'pcc_ROISignals_29457.txt', 'pcc_ROISignals_29458.txt', 'pcc_ROISignals_29459.txt', 'pcc_ROISignals_29460.txt', 'pcc_ROISignals_29461.txt', 'pcc_ROISignals_29462.txt', 'pcc_ROISignals_29463.txt', 'pcc_ROISignals_29464.txt', 'pcc_ROISignals_29466.txt', 'pcc_ROISignals_29467.txt', 'pcc_ROISignals_29468.txt', 'pcc_ROISignals_29469.txt', 'pcc_ROISignals_29470.txt', 'pcc_ROISignals_29472.txt', 'pcc_ROISignals_29473.txt', 'pcc_ROISignals_29474.txt', 'pcc_ROISignals_29475.txt', 'pcc_ROISignals_29477.txt', 'pcc_ROISignals_29478.txt', 'pcc_ROISignals_29479.txt', 'pcc_ROISignals_29480.txt', 'pcc_ROISignals_29481.txt', 'pcc_ROISignals_29482.txt', 'pcc_ROISignals_29495.txt', 'pcc_ROISignals_29496.txt', 'pcc_ROISignals_29497.txt', 'pcc_ROISignals_29498.txt', 'pcc_ROISignals_29499.txt', 'pcc_ROISignals_29500.txt', 'pcc_ROISignals_29501.txt', 'pcc_ROISignals_29502.txt', 'pcc_ROISignals_29503.txt', 'pcc_ROISignals_29505.txt', 'pcc_ROISignals_29506.txt', 'pcc_ROISignals_29507.txt', 'pcc_ROISignals_29508.txt', 'pcc_ROISignals_29509.txt', 'pcc_ROISignals_29510.txt', 'pcc_ROISignals_29511.txt', 'pcc_ROISignals_29512.txt', 'pcc_ROISignals_29513.txt', 'pcc_ROISignals_29514.txt', 'pcc_ROISignals_29515.txt', 'pcc_ROISignals_29516.txt', 'pcc_ROISignals_29517.txt', 'pcc_ROISignals_29518.txt', 'pcc_ROISignals_29519.txt', 'pcc_ROISignals_29520.txt', 'pcc_ROISignals_29521.txt', 'pcc_ROISignals_29522.txt', 'pcc_ROISignals_29523.txt', 'pcc_ROISignals_29524.txt', 'pcc_ROISignals_29525.txt', 'pcc_ROISignals_29526.txt', 'pcc_ROISignals_29527.txt', 'pcc_ROISignals_29538.txt', 'pcc_ROISignals_29539.txt', 'pcc_ROISignals_29540.txt', 'pcc_ROISignals_29541.txt', 'pcc_ROISignals_29542.txt', 'pcc_ROISignals_29543.txt', 'pcc_ROISignals_29544.txt', 'pcc_ROISignals_29545.txt', 'pcc_ROISignals_29546.txt', 'pcc_ROISignals_29547.txt', 'pcc_ROISignals_29548.txt', 'pcc_ROISignals_29549.txt', 'pcc_ROISignals_29550.txt', 'pcc_ROISignals_29551.txt', 'pcc_ROISignals_29552.txt', 'pcc_ROISignals_29553.txt', 'pcc_ROISignals_29554.txt', 'pcc_ROISignals_29555.txt', 'pcc_ROISignals_29556.txt', 'pcc_ROISignals_29557.txt', 'pcc_ROISignals_29558.txt', 'pcc_ROISignals_29559.txt', 'pcc_ROISignals_29560.txt', 'pcc_ROISignals_29561.txt', 'pcc_ROISignals_29562.txt', 'pcc_ROISignals_29563.txt', 'pcc_ROISignals_29564.txt', 'pcc_ROISignals_29565.txt', 'pcc_ROISignals_29566.txt', 'pcc_ROISignals_29567.txt', 'pcc_ROISignals_29568.txt', 'pcc_ROISignals_29569.txt', 'pcc_ROISignals_29570.txt', 'pcc_ROISignals_29571.txt', 'pcc_ROISignals_29572.txt', 'pcc_ROISignals_29573.txt', 'pcc_ROISignals_29574.txt', 'pcc_ROISignals_29575.txt', 'pcc_ROISignals_29576.txt', 'pcc_ROISignals_29577.txt', 'pcc_ROISignals_29656.txt', 'pcc_ROISignals_29657.txt', 'pcc_ROISignals_29658.txt', 'pcc_ROISignals_29660.txt', 'pcc_ROISignals_29661.txt', 'pcc_ROISignals_29662.txt', 'pcc_ROISignals_29664.txt', 'pcc_ROISignals_29665.txt', 'pcc_ROISignals_29666.txt', 'pcc_ROISignals_29667.txt', 'pcc_ROISignals_29668.txt', 'pcc_ROISignals_29669.txt', 'pcc_ROISignals_29670.txt', 'pcc_ROISignals_29671.txt', 'pcc_ROISignals_29674.txt', 'pcc_ROISignals_29675.txt', 'pcc_ROISignals_29676.txt', 'pcc_ROISignals_29677.txt', 'pcc_ROISignals_29678.txt', 'pcc_ROISignals_29679.txt', 'pcc_ROISignals_29794.txt', 'pcc_ROISignals_29795.txt', 'pcc_ROISignals_29796.txt', 'pcc_ROISignals_29797.txt', 'pcc_ROISignals_29798.txt', 'pcc_ROISignals_29799.txt', 'pcc_ROISignals_29800.txt', 'pcc_ROISignals_29864.txt', 'pcc_ROISignals_29865.txt', 'pcc_ROISignals_29866.txt', 'pcc_ROISignals_29867.txt', 'pcc_ROISignals_29868.txt', 'pcc_ROISignals_29869.txt', 'pcc_ROISignals_29870.txt', 'pcc_ROISignals_29871.txt', 'pcc_ROISignals_29872.txt', 'pcc_ROISignals_29873.txt', 'pcc_ROISignals_29874.txt', 'pcc_ROISignals_29875.txt', 'pcc_ROISignals_29876.txt', 'pcc_ROISignals_29877.txt', 'pcc_ROISignals_29878.txt', 'pcc_ROISignals_29879.txt', 'pcc_ROISignals_29880.txt', 'pcc_ROISignals_29881.txt', 'pcc_ROISignals_29882.txt', 'pcc_ROISignals_29883.txt', 'pcc_ROISignals_29884.txt', 'pcc_ROISignals_29885.txt', 'pcc_ROISignals_29886.txt', 'pcc_ROISignals_29889.txt', 'pcc_ROISignals_29890.txt', 'pcc_ROISignals_29891.txt', 'pcc_ROISignals_29892.txt', 'pcc_ROISignals_29893.txt', 'pcc_ROISignals_29894.txt', 'pcc_ROISignals_29895.txt', 'pcc_ROISignals_29896.txt', 'pcc_ROISignals_29897.txt', 'pcc_ROISignals_29898.txt', 'pcc_ROISignals_29899.txt', 'pcc_ROISignals_29900.txt', 'pcc_ROISignals_29901.txt', 'pcc_ROISignals_29902.txt', 'pcc_ROISignals_29903.txt', 'pcc_ROISignals_29904.txt', 'pcc_ROISignals_29905.txt', 'pcc_ROISignals_29906.txt', 'pcc_ROISignals_29907.txt', 'pcc_ROISignals_29908.txt', 'pcc_ROISignals_29909.txt', 'pcc_ROISignals_29910.txt', 'pcc_ROISignals_29911.txt', 'pcc_ROISignals_29912.txt', 'pcc_ROISignals_29913.txt', 'pcc_ROISignals_29914.txt', 'pcc_ROISignals_29915.txt', 'pcc_ROISignals_29916.txt', 'pcc_ROISignals_29917.txt', 'pcc_ROISignals_29997.txt', 'pcc_ROISignals_29998.txt', 'pcc_ROISignals_29999.txt', 'pcc_ROISignals_30000.txt', 'pcc_ROISignals_30001.txt', 'pcc_ROISignals_30002.txt', 'pcc_ROISignals_30003.txt', 'pcc_ROISignals_30004.txt', 'pcc_ROISignals_30005.txt', 'pcc_ROISignals_30006.txt', 'pcc_ROISignals_30007.txt', 'pcc_ROISignals_30008.txt', 'pcc_ROISignals_30009.txt', 'pcc_ROISignals_30010.txt', 'pcc_ROISignals_30011.txt', 'pcc_ROISignals_30012.txt', 'pcc_ROISignals_30013.txt', 'pcc_ROISignals_30014.txt', 'pcc_ROISignals_30015.txt', 'pcc_ROISignals_30016.txt', 'pcc_ROISignals_30017.txt', 'pcc_ROISignals_30018.txt', 'pcc_ROISignals_30019.txt', 'pcc_ROISignals_30020.txt', 'pcc_ROISignals_30021.txt', 'pcc_ROISignals_30022.txt', 'pcc_ROISignals_30023.txt', 'pcc_ROISignals_30024.txt', 'pcc_ROISignals_30026.txt', 'pcc_ROISignals_30027.txt', 'pcc_ROISignals_30028.txt', 'pcc_ROISignals_30029.txt', 'pcc_ROISignals_30229.txt', 'pcc_ROISignals_30233.txt', 'pcc_ROISignals_30234.txt', 'pcc_ROISignals_30235.txt', 'pcc_ROISignals_30236.txt', 'pcc_ROISignals_30237.txt', 'pcc_ROISignals_30238.txt', 'pcc_ROISignals_30239.txt', 'pcc_ROISignals_30240.txt', 'pcc_ROISignals_30241.txt', 'pcc_ROISignals_30242.txt', 'pcc_ROISignals_30243.txt', 'pcc_ROISignals_30244.txt', 'pcc_ROISignals_30245.txt', 'pcc_ROISignals_30246.txt', 'pcc_ROISignals_30247.txt', 'pcc_ROISignals_30248.txt', 'pcc_ROISignals_30249.txt', 'pcc_ROISignals_30250.txt', 'pcc_ROISignals_30251.txt', 'pcc_ROISignals_30252.txt', 'pcc_ROISignals_30253.txt', 'pcc_ROISignals_30254.txt', 'pcc_ROISignals_30255.txt', 'pcc_ROISignals_30256.txt']\n"
     ]
    }
   ],
   "source": [
    "list_file = open('/nasdata3/kyj/graphcl/GraphCL_Automated/ASD_test/x_pcc/file_list','r').read().split('\\n')\n",
    "list_file.pop()\n",
    "list_file.pop(0)\n",
    "print(list_file)\n"
   ]
  },
  {
   "cell_type": "code",
   "execution_count": null,
   "metadata": {},
   "outputs": [],
   "source": []
  },
  {
   "cell_type": "code",
   "execution_count": 7,
   "metadata": {},
   "outputs": [
    {
     "name": "stdout",
     "output_type": "stream",
     "text": [
      "0.147448878343121\n"
     ]
    }
   ],
   "source": [
    "with open('/nasdata4/mye/ADNI_graph_data/x_partialCC/pcc_ROISignals_136_S_4993.txt', 'r') as f:\n",
    "    f = f.readlines()\n",
    "    for i in range(len(f)):\n",
    "        f[i] = f[i].rstrip('\\n')\n",
    "    l = [[float(num) for num in line.split(',')] for line in f]\n",
    "arow = len(l)\n",
    "acol = len(l[0])\n",
    "#print(l)\n",
    "#print(\"Rows : \" + str(arow))\n",
    "#print(\"Columns : \" + str(acol))\n",
    "print(l[0][115])"
   ]
  },
  {
   "cell_type": "code",
   "execution_count": 10,
   "metadata": {},
   "outputs": [
    {
     "name": "stdout",
     "output_type": "stream",
     "text": [
      "703\n"
     ]
    }
   ],
   "source": [
    "sub_list = []\n",
    "for i in list_file:\n",
    "        i=i.strip(\"pcc_ROISignals_\")\n",
    "        i=i.rstrip(\".txt\")\n",
    "        sub_list.append(i)\n",
    "print(len(sub_list))"
   ]
  },
  {
   "cell_type": "code",
   "execution_count": 11,
   "metadata": {},
   "outputs": [
    {
     "name": "stdout",
     "output_type": "stream",
     "text": [
      "[  0   1   2   3   4   5   6   7   8   9  10  11  12  13  14  15  16  17\n",
      "  18  19  20  21  22  23  24  25  26  27  28  29  30  31  32  33  34  35\n",
      "  36  37  38  39  40  41  42  43  44  45  46  47  48  49  50  51  52  53\n",
      "  54  55  56  57  58  59  60  61  62  63  64  65  66  67  68  69  70  71\n",
      "  72  73  74  75  76  77  78  79  80  81  82  83  84  85  86  87  88  89\n",
      "  90  91  92  93  94  95  96  97  98  99 100 101 102 103 104 105 106 107\n",
      " 108 109 110 111 112 113 114 115]\n",
      "[[1. 0. 0. ... 0. 0. 0.]\n",
      " [0. 1. 0. ... 0. 0. 0.]\n",
      " [0. 0. 1. ... 0. 0. 0.]\n",
      " ...\n",
      " [0. 0. 0. ... 1. 0. 0.]\n",
      " [0. 0. 0. ... 0. 1. 0.]\n",
      " [0. 0. 0. ... 0. 0. 1.]]\n",
      "116\n",
      "116\n"
     ]
    }
   ],
   "source": [
    "#data = np.array(l[0])\n",
    "one_hot = np.zeros((116,116))\n",
    "\n",
    "rows = np.arange(116)\n",
    "print(rows)\n",
    "\n",
    "one_hot[rows,rows] = 1.0\n",
    "print(one_hot)\n",
    "print(len(one_hot))\n",
    "print(len(one_hot[0]))"
   ]
  },
  {
   "cell_type": "code",
   "execution_count": 12,
   "metadata": {
    "scrolled": true
   },
   "outputs": [
    {
     "name": "stdout",
     "output_type": "stream",
     "text": [
      "[[ 1.          0.321235    0.31510282 ...  0.15529648 -0.26583991\n",
      "   0.06832216]\n",
      " [ 0.321235    1.         -0.16169382 ...  0.2712651  -0.15874562\n",
      "  -0.38316641]\n",
      " [ 0.31510282 -0.16169382  1.         ... -0.14898008  0.20282168\n",
      "  -0.08621369]\n",
      " ...\n",
      " [ 0.          0.          0.         ...  1.          0.\n",
      "   0.        ]\n",
      " [ 0.          0.          0.         ...  0.          1.\n",
      "   0.        ]\n",
      " [ 0.          0.          0.         ...  0.          0.\n",
      "   1.        ]]\n"
     ]
    }
   ],
   "source": [
    "for i in list_file:\n",
    "    with open(f'/nasdata3/kyj/graphcl/GraphCL_Automated/ASD_test/x_pcc/{i}', 'r') as f:\n",
    "        f = f.readlines()\n",
    "        for j in range(len(f)):\n",
    "            f[j] = f[j].rstrip('\\n')\n",
    "        l = [[float(num) for num in line.split(',')] for line in f]\n",
    "    l = np.concatenate((l,one_hot),axis = 0)\n",
    "    i = i.strip('pcc_ROISignals_')\n",
    "    i = i.rstrip('.txt')\n",
    "    np.savetxt(f'/nasdata3/kyj/graphcl/GraphCL_Automated/ASD_test/x_pcc_wth_idx/{i}.txt', l, fmt='%.15f', delimiter=',')\n",
    "    #with open(f'/nasdata4/mye/ADNI_graph_data/x_pcc_with_idx/{i}.txt', 'wb') as f :\n",
    "    #    f.write(l)\n",
    "    #i = i.rstrip('.txt')\n",
    "    #with open(f'/nasdata3/kyj/graphcl/GraphCL_Automated/HCP_data/x_roi_signal/{i}.pkl', 'wb') as f :\n",
    "    #    pickle.dump(l, f)\n",
    "print(l)"
   ]
  },
  {
   "cell_type": "code",
   "execution_count": null,
   "metadata": {},
   "outputs": [],
   "source": []
  }
 ],
 "metadata": {
  "kernelspec": {
   "display_name": "Python 3.9.7 64-bit ('anaconda3')",
   "language": "python",
   "name": "python3"
  },
  "language_info": {
   "codemirror_mode": {
    "name": "ipython",
    "version": 3
   },
   "file_extension": ".py",
   "mimetype": "text/x-python",
   "name": "python",
   "nbconvert_exporter": "python",
   "pygments_lexer": "ipython3",
   "version": "3.9.7"
  },
  "vscode": {
   "interpreter": {
    "hash": "bedf66be1299b403f9e10e21563713adb202f4bf5802396970ab0028785933d0"
   }
  }
 },
 "nbformat": 4,
 "nbformat_minor": 2
}
